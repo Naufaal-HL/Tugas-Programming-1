Nama      : Naufal Haritsah Luthfi
NIM       : 1301194073
Peminatan : Cinematography

import math
print("1. Menghitung volume")
print("2. Menghitung luas permukaan")
print()
pilihan = int(input("Masukan pilihan : "))

if pilihan == 1:
  print("Daftar Pilihan Bangun Ruang : ")
  print("1. Balok")
  print("2. Tabung")
  print("3. Kerucut")
  print()
  pilihanbangun = int(input("Masukan pilihan : "))
  print()

  if pilihan == 1:
    p = float(input("Masukan panjang : "))
    l = float(input("Masukan lebar : "))
    t = float(input("Masukan tinggi : "))
    print()
    print("Volume Balok : " + str(p*l*t))

  elif pilihan == 2:
    r = float(input("Masukan jari-jari : "))
    t = float(input("Masukan tinggi : "))
    rumus = 3.14 * r * r * t
    print()
    print("Volume Tabung : " + str(rumus))

  elif pilihan == 3:
    r = float(input("Masukan jari-jari : "))
    t = float(input("Masukan tinggi : "))
    rumus = 1/3 * 3.14 * r * r * t
    print()
    print("Volume Kerucut : " + str(rumus))

else:
  print("Daftar Pilihan Bangun Ruang : ")
  print("1. Balok")
  print("2. Tabung")
  print("3. Kerucut")
  print()
  pilihanbangun = int(input("Masukan pilihan : "))
  print()

  if pilihan == 1:
    p = float(input("Masukan panjang : "))
    l = float(input("Masukan lebar : "))
    t = float(input("Masukan tinggi : "))
    rumus = 2 * ((p * l) + (p * t) + (l * t))
    print()
    print("Luas permukaan Balok : " + str(rumus))

  elif pilihan == 2:
    r = float(input("Masukan jari-jari : "))
    t = float(input("Masukan tinggi : "))
    rumus = 2 * 3.14 * r * (r + t)
    print()
    print("Luas permukaan Tabung : " + str(rumus))
  
  elif pilihan == 3:
    r = float(input("Masukan jari-jari : "))
    t = float(input("Masukan tinggi : "))
    s = math.sqrt((r * r) + (t * t))
    rumus = 3.14 * r * (r + s)
    print()
    print("Luas permukaan Kerucut : " + str(rumus))
